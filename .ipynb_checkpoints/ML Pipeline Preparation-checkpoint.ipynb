{
 "cells": [
  {
   "cell_type": "markdown",
   "metadata": {},
   "source": [
    "# ML Pipeline Preparation\n",
    "Follow the instructions below to help you create your ML pipeline.\n",
    "### 1. Import libraries and load data from database.\n",
    "- Import Python libraries\n",
    "- Load dataset from database with [`read_sql_table`](https://pandas.pydata.org/pandas-docs/stable/generated/pandas.read_sql_table.html)\n",
    "- Define feature and target variables X and Y"
   ]
  },
  {
   "cell_type": "code",
   "execution_count": 1,
   "metadata": {},
   "outputs": [
    {
     "name": "stderr",
     "output_type": "stream",
     "text": [
      "[nltk_data] Downloading package stopwords to\n",
      "[nltk_data]     /home/matthias/nltk_data...\n",
      "[nltk_data]   Unzipping corpora/stopwords.zip.\n",
      "[nltk_data] Downloading package punkt to /home/matthias/nltk_data...\n",
      "[nltk_data]   Unzipping tokenizers/punkt.zip.\n",
      "[nltk_data] Downloading package wordnet to /home/matthias/nltk_data...\n",
      "[nltk_data]   Unzipping corpora/wordnet.zip.\n"
     ]
    },
    {
     "data": {
      "text/plain": [
       "True"
      ]
     },
     "execution_count": 1,
     "metadata": {},
     "output_type": "execute_result"
    }
   ],
   "source": [
    "import nltk\n",
    "nltk.download(['stopwords','punkt','wordnet'])"
   ]
  },
  {
   "cell_type": "code",
   "execution_count": 2,
   "metadata": {},
   "outputs": [],
   "source": [
    "import pandas as pd\n",
    "import numpy as np\n",
    "from sqlalchemy import create_engine\n",
    "import re\n",
    "from nltk.tokenize import word_tokenize\n",
    "from nltk.corpus import stopwords\n",
    "from nltk.stem.wordnet import WordNetLemmatizer\n",
    "from sklearn.pipeline import Pipeline\n",
    "from sklearn.feature_extraction.text import CountVectorizer, TfidfTransformer\n",
    "from sklearn.multioutput import MultiOutputClassifier\n",
    "from sklearn.model_selection import train_test_split, GridSearchCV\n",
    "from sklearn.ensemble import RandomForestClassifier\n",
    "from sklearn import svm\n",
    "from sklearn.naive_bayes import GaussianNB\n",
    "from sklearn.metrics import classification_report, precision_score, recall_score, confusion_matrix\n",
    "from sklearn.base import TransformerMixin"
   ]
  },
  {
   "cell_type": "code",
   "execution_count": 3,
   "metadata": {},
   "outputs": [],
   "source": [
    "# load data from database\n",
    "engine = create_engine('sqlite:///desaster_response.db')\n",
    "df = pd.read_sql(\"SELECT * FROM desaster_response\", engine)\n",
    "X = df['message'] \n",
    "y = df.drop(['id','message','original','genre'],axis=1)"
   ]
  },
  {
   "cell_type": "code",
   "execution_count": 4,
   "metadata": {},
   "outputs": [
    {
     "data": {
      "text/html": [
       "<div>\n",
       "<style scoped>\n",
       "    .dataframe tbody tr th:only-of-type {\n",
       "        vertical-align: middle;\n",
       "    }\n",
       "\n",
       "    .dataframe tbody tr th {\n",
       "        vertical-align: top;\n",
       "    }\n",
       "\n",
       "    .dataframe thead th {\n",
       "        text-align: right;\n",
       "    }\n",
       "</style>\n",
       "<table border=\"1\" class=\"dataframe\">\n",
       "  <thead>\n",
       "    <tr style=\"text-align: right;\">\n",
       "      <th></th>\n",
       "      <th>related</th>\n",
       "      <th>request</th>\n",
       "      <th>offer</th>\n",
       "      <th>aid_related</th>\n",
       "      <th>medical_help</th>\n",
       "      <th>medical_products</th>\n",
       "      <th>search_and_rescue</th>\n",
       "      <th>security</th>\n",
       "      <th>military</th>\n",
       "      <th>child_alone</th>\n",
       "      <th>...</th>\n",
       "      <th>aid_centers</th>\n",
       "      <th>other_infrastructure</th>\n",
       "      <th>weather_related</th>\n",
       "      <th>floods</th>\n",
       "      <th>storm</th>\n",
       "      <th>fire</th>\n",
       "      <th>earthquake</th>\n",
       "      <th>cold</th>\n",
       "      <th>other_weather</th>\n",
       "      <th>direct_report</th>\n",
       "    </tr>\n",
       "  </thead>\n",
       "  <tbody>\n",
       "    <tr>\n",
       "      <th>0</th>\n",
       "      <td>1</td>\n",
       "      <td>0</td>\n",
       "      <td>0</td>\n",
       "      <td>0</td>\n",
       "      <td>0</td>\n",
       "      <td>0</td>\n",
       "      <td>0</td>\n",
       "      <td>0</td>\n",
       "      <td>0</td>\n",
       "      <td>0</td>\n",
       "      <td>...</td>\n",
       "      <td>0</td>\n",
       "      <td>0</td>\n",
       "      <td>0</td>\n",
       "      <td>0</td>\n",
       "      <td>0</td>\n",
       "      <td>0</td>\n",
       "      <td>0</td>\n",
       "      <td>0</td>\n",
       "      <td>0</td>\n",
       "      <td>0</td>\n",
       "    </tr>\n",
       "    <tr>\n",
       "      <th>1</th>\n",
       "      <td>1</td>\n",
       "      <td>0</td>\n",
       "      <td>0</td>\n",
       "      <td>1</td>\n",
       "      <td>0</td>\n",
       "      <td>0</td>\n",
       "      <td>0</td>\n",
       "      <td>0</td>\n",
       "      <td>0</td>\n",
       "      <td>0</td>\n",
       "      <td>...</td>\n",
       "      <td>0</td>\n",
       "      <td>0</td>\n",
       "      <td>1</td>\n",
       "      <td>0</td>\n",
       "      <td>1</td>\n",
       "      <td>0</td>\n",
       "      <td>0</td>\n",
       "      <td>0</td>\n",
       "      <td>0</td>\n",
       "      <td>0</td>\n",
       "    </tr>\n",
       "    <tr>\n",
       "      <th>2</th>\n",
       "      <td>1</td>\n",
       "      <td>0</td>\n",
       "      <td>0</td>\n",
       "      <td>0</td>\n",
       "      <td>0</td>\n",
       "      <td>0</td>\n",
       "      <td>0</td>\n",
       "      <td>0</td>\n",
       "      <td>0</td>\n",
       "      <td>0</td>\n",
       "      <td>...</td>\n",
       "      <td>0</td>\n",
       "      <td>0</td>\n",
       "      <td>0</td>\n",
       "      <td>0</td>\n",
       "      <td>0</td>\n",
       "      <td>0</td>\n",
       "      <td>0</td>\n",
       "      <td>0</td>\n",
       "      <td>0</td>\n",
       "      <td>0</td>\n",
       "    </tr>\n",
       "    <tr>\n",
       "      <th>3</th>\n",
       "      <td>1</td>\n",
       "      <td>1</td>\n",
       "      <td>0</td>\n",
       "      <td>1</td>\n",
       "      <td>0</td>\n",
       "      <td>1</td>\n",
       "      <td>0</td>\n",
       "      <td>0</td>\n",
       "      <td>0</td>\n",
       "      <td>0</td>\n",
       "      <td>...</td>\n",
       "      <td>0</td>\n",
       "      <td>0</td>\n",
       "      <td>0</td>\n",
       "      <td>0</td>\n",
       "      <td>0</td>\n",
       "      <td>0</td>\n",
       "      <td>0</td>\n",
       "      <td>0</td>\n",
       "      <td>0</td>\n",
       "      <td>0</td>\n",
       "    </tr>\n",
       "    <tr>\n",
       "      <th>4</th>\n",
       "      <td>1</td>\n",
       "      <td>0</td>\n",
       "      <td>0</td>\n",
       "      <td>0</td>\n",
       "      <td>0</td>\n",
       "      <td>0</td>\n",
       "      <td>0</td>\n",
       "      <td>0</td>\n",
       "      <td>0</td>\n",
       "      <td>0</td>\n",
       "      <td>...</td>\n",
       "      <td>0</td>\n",
       "      <td>0</td>\n",
       "      <td>0</td>\n",
       "      <td>0</td>\n",
       "      <td>0</td>\n",
       "      <td>0</td>\n",
       "      <td>0</td>\n",
       "      <td>0</td>\n",
       "      <td>0</td>\n",
       "      <td>0</td>\n",
       "    </tr>\n",
       "  </tbody>\n",
       "</table>\n",
       "<p>5 rows × 36 columns</p>\n",
       "</div>"
      ],
      "text/plain": [
       "   related  request  offer  aid_related  medical_help  medical_products  \\\n",
       "0        1        0      0            0             0                 0   \n",
       "1        1        0      0            1             0                 0   \n",
       "2        1        0      0            0             0                 0   \n",
       "3        1        1      0            1             0                 1   \n",
       "4        1        0      0            0             0                 0   \n",
       "\n",
       "   search_and_rescue  security  military  child_alone  ...  aid_centers  \\\n",
       "0                  0         0         0            0  ...            0   \n",
       "1                  0         0         0            0  ...            0   \n",
       "2                  0         0         0            0  ...            0   \n",
       "3                  0         0         0            0  ...            0   \n",
       "4                  0         0         0            0  ...            0   \n",
       "\n",
       "   other_infrastructure  weather_related  floods  storm  fire  earthquake  \\\n",
       "0                     0                0       0      0     0           0   \n",
       "1                     0                1       0      1     0           0   \n",
       "2                     0                0       0      0     0           0   \n",
       "3                     0                0       0      0     0           0   \n",
       "4                     0                0       0      0     0           0   \n",
       "\n",
       "   cold  other_weather  direct_report  \n",
       "0     0              0              0  \n",
       "1     0              0              0  \n",
       "2     0              0              0  \n",
       "3     0              0              0  \n",
       "4     0              0              0  \n",
       "\n",
       "[5 rows x 36 columns]"
      ]
     },
     "execution_count": 4,
     "metadata": {},
     "output_type": "execute_result"
    }
   ],
   "source": [
    "y.head()"
   ]
  },
  {
   "cell_type": "markdown",
   "metadata": {},
   "source": [
    "### 2. Write a tokenization function to process your text data"
   ]
  },
  {
   "cell_type": "code",
   "execution_count": 5,
   "metadata": {},
   "outputs": [],
   "source": [
    "def tokenize(text):\n",
    "    # text lowercase and remove punctuation\n",
    "    text = re.sub(r\"[^a-zA-Z0-9]\", \" \", text.lower())\n",
    "    # tokenizing text\n",
    "    words = word_tokenize(text)\n",
    "    # Removing stop words\n",
    "    words = [x for x in words if x not in nltk.corpus.stopwords.words('english')]\n",
    "    # Lemmatize\n",
    "    lemmed = [WordNetLemmatizer().lemmatize(w) for w in words] # for nouns\n",
    "    lemmed = [WordNetLemmatizer().lemmatize(w, pos='v') for w in words] # for verbs\n",
    "    \n",
    "    return lemmed"
   ]
  },
  {
   "cell_type": "markdown",
   "metadata": {},
   "source": [
    "### 3. Build a machine learning pipeline\n",
    "This machine pipeline should take in the `message` column as input and output classification results on the other 36 categories in the dataset. You may find the [MultiOutputClassifier](http://scikit-learn.org/stable/modules/generated/sklearn.multioutput.MultiOutputClassifier.html) helpful for predicting multiple target variables."
   ]
  },
  {
   "cell_type": "code",
   "execution_count": 36,
   "metadata": {},
   "outputs": [],
   "source": [
    "pipeline = Pipeline([('vect', CountVectorizer(tokenizer=tokenize)),\n",
    "             ('tdidf', TfidfTransformer()),\n",
    "             ('multi', MultiOutputClassifier(estimator=RandomForestClassifier(min_samples_leaf=1)))\n",
    "            ])"
   ]
  },
  {
   "cell_type": "markdown",
   "metadata": {},
   "source": [
    "### 4. Train pipeline\n",
    "- Split data into train and test sets\n",
    "- Train pipeline"
   ]
  },
  {
   "cell_type": "code",
   "execution_count": 37,
   "metadata": {},
   "outputs": [],
   "source": [
    "X_train, X_test, y_train, y_test = train_test_split(X,y)"
   ]
  },
  {
   "cell_type": "code",
   "execution_count": 11,
   "metadata": {},
   "outputs": [
    {
     "data": {
      "text/plain": [
       "Pipeline(memory=None,\n",
       "     steps=[('vect', CountVectorizer(analyzer='word', binary=False, decode_error='strict',\n",
       "        dtype=<class 'numpy.int64'>, encoding='utf-8', input='content',\n",
       "        lowercase=True, max_df=1.0, max_features=None, min_df=1,\n",
       "        ngram_range=(1, 1), preprocessor=None, stop_words=None,\n",
       "        strip..._score=False, random_state=None, verbose=0,\n",
       "            warm_start=False),\n",
       "           n_jobs=None))])"
      ]
     },
     "execution_count": 11,
     "metadata": {},
     "output_type": "execute_result"
    }
   ],
   "source": [
    "pipeline.fit(X_train,y_train)"
   ]
  },
  {
   "cell_type": "markdown",
   "metadata": {},
   "source": [
    "### 5. Test your model\n",
    "Report the f1 score, precision and recall for each output category of the dataset. You can do this by iterating through the columns and calling sklearn's `classification_report` on each."
   ]
  },
  {
   "cell_type": "code",
   "execution_count": 12,
   "metadata": {},
   "outputs": [],
   "source": [
    "y_pred = pipeline.predict(X_test)"
   ]
  },
  {
   "cell_type": "code",
   "execution_count": 13,
   "metadata": {},
   "outputs": [
    {
     "name": "stderr",
     "output_type": "stream",
     "text": [
      "/home/matthias/anaconda3/lib/python3.7/site-packages/sklearn/metrics/classification.py:1143: UndefinedMetricWarning: Precision and F-score are ill-defined and being set to 0.0 in labels with no predicted samples.\n",
      "  'precision', 'predicted', average, warn_for)\n",
      "/home/matthias/anaconda3/lib/python3.7/site-packages/sklearn/metrics/classification.py:1143: UndefinedMetricWarning: Precision is ill-defined and being set to 0.0 in labels with no predicted samples.\n",
      "  'precision', 'predicted', average, warn_for)\n"
     ]
    },
    {
     "data": {
      "text/html": [
       "<div>\n",
       "<style scoped>\n",
       "    .dataframe tbody tr th:only-of-type {\n",
       "        vertical-align: middle;\n",
       "    }\n",
       "\n",
       "    .dataframe tbody tr th {\n",
       "        vertical-align: top;\n",
       "    }\n",
       "\n",
       "    .dataframe thead th {\n",
       "        text-align: right;\n",
       "    }\n",
       "</style>\n",
       "<table border=\"1\" class=\"dataframe\">\n",
       "  <thead>\n",
       "    <tr style=\"text-align: right;\">\n",
       "      <th></th>\n",
       "      <th>0</th>\n",
       "      <th>1</th>\n",
       "      <th>2</th>\n",
       "      <th>3</th>\n",
       "      <th>4</th>\n",
       "      <th>5</th>\n",
       "      <th>6</th>\n",
       "      <th>7</th>\n",
       "      <th>8</th>\n",
       "      <th>9</th>\n",
       "      <th>...</th>\n",
       "      <th>26</th>\n",
       "      <th>27</th>\n",
       "      <th>28</th>\n",
       "      <th>29</th>\n",
       "      <th>30</th>\n",
       "      <th>31</th>\n",
       "      <th>32</th>\n",
       "      <th>33</th>\n",
       "      <th>34</th>\n",
       "      <th>35</th>\n",
       "    </tr>\n",
       "  </thead>\n",
       "  <tbody>\n",
       "    <tr>\n",
       "      <th>precision</th>\n",
       "      <td>0.783809</td>\n",
       "      <td>0.886697</td>\n",
       "      <td>0.991170</td>\n",
       "      <td>0.754625</td>\n",
       "      <td>0.894824</td>\n",
       "      <td>0.950798</td>\n",
       "      <td>0.969646</td>\n",
       "      <td>0.969112</td>\n",
       "      <td>0.955412</td>\n",
       "      <td>1.0</td>\n",
       "      <td>...</td>\n",
       "      <td>0.978451</td>\n",
       "      <td>0.927777</td>\n",
       "      <td>0.859418</td>\n",
       "      <td>0.946096</td>\n",
       "      <td>0.920924</td>\n",
       "      <td>0.989583</td>\n",
       "      <td>0.964531</td>\n",
       "      <td>0.974477</td>\n",
       "      <td>0.930525</td>\n",
       "      <td>0.836377</td>\n",
       "    </tr>\n",
       "    <tr>\n",
       "      <th>recall</th>\n",
       "      <td>0.796918</td>\n",
       "      <td>0.893500</td>\n",
       "      <td>0.995575</td>\n",
       "      <td>0.756027</td>\n",
       "      <td>0.920201</td>\n",
       "      <td>0.954532</td>\n",
       "      <td>0.974062</td>\n",
       "      <td>0.984132</td>\n",
       "      <td>0.966585</td>\n",
       "      <td>1.0</td>\n",
       "      <td>...</td>\n",
       "      <td>0.989167</td>\n",
       "      <td>0.957888</td>\n",
       "      <td>0.861001</td>\n",
       "      <td>0.947971</td>\n",
       "      <td>0.929661</td>\n",
       "      <td>0.989472</td>\n",
       "      <td>0.965975</td>\n",
       "      <td>0.979707</td>\n",
       "      <td>0.948581</td>\n",
       "      <td>0.850626</td>\n",
       "    </tr>\n",
       "    <tr>\n",
       "      <th>f1</th>\n",
       "      <td>0.796918</td>\n",
       "      <td>0.893500</td>\n",
       "      <td>0.995575</td>\n",
       "      <td>0.756027</td>\n",
       "      <td>0.920201</td>\n",
       "      <td>0.954532</td>\n",
       "      <td>0.974062</td>\n",
       "      <td>0.984132</td>\n",
       "      <td>0.966585</td>\n",
       "      <td>1.0</td>\n",
       "      <td>...</td>\n",
       "      <td>0.989167</td>\n",
       "      <td>0.957888</td>\n",
       "      <td>0.861001</td>\n",
       "      <td>0.947971</td>\n",
       "      <td>0.929661</td>\n",
       "      <td>0.989472</td>\n",
       "      <td>0.965975</td>\n",
       "      <td>0.979707</td>\n",
       "      <td>0.948581</td>\n",
       "      <td>0.850626</td>\n",
       "    </tr>\n",
       "  </tbody>\n",
       "</table>\n",
       "<p>3 rows × 36 columns</p>\n",
       "</div>"
      ],
      "text/plain": [
       "                 0         1         2         3         4         5   \\\n",
       "precision  0.783809  0.886697  0.991170  0.754625  0.894824  0.950798   \n",
       "recall     0.796918  0.893500  0.995575  0.756027  0.920201  0.954532   \n",
       "f1         0.796918  0.893500  0.995575  0.756027  0.920201  0.954532   \n",
       "\n",
       "                 6         7         8    9   ...        26        27  \\\n",
       "precision  0.969646  0.969112  0.955412  1.0  ...  0.978451  0.927777   \n",
       "recall     0.974062  0.984132  0.966585  1.0  ...  0.989167  0.957888   \n",
       "f1         0.974062  0.984132  0.966585  1.0  ...  0.989167  0.957888   \n",
       "\n",
       "                 28        29        30        31        32        33  \\\n",
       "precision  0.859418  0.946096  0.920924  0.989583  0.964531  0.974477   \n",
       "recall     0.861001  0.947971  0.929661  0.989472  0.965975  0.979707   \n",
       "f1         0.861001  0.947971  0.929661  0.989472  0.965975  0.979707   \n",
       "\n",
       "                 34        35  \n",
       "precision  0.930525  0.836377  \n",
       "recall     0.948581  0.850626  \n",
       "f1         0.948581  0.850626  \n",
       "\n",
       "[3 rows x 36 columns]"
      ]
     },
     "execution_count": 13,
     "metadata": {},
     "output_type": "execute_result"
    }
   ],
   "source": [
    "result=[]\n",
    "precision = []\n",
    "recall=[]\n",
    "f1=[]\n",
    "for i in range(y_pred.shape[1]):\n",
    "    result.append(classification_report(np.array(y_test.iloc[:,i]),y_pred[:,i]))\n",
    "    precision.append(precision_score(np.array(y_test.iloc[:,i]),y_pred[:,i],average='weighted'))\n",
    "    recall.append(recall_score(np.array(y_test.iloc[:,i]),y_pred[:,i],average='weighted'))\n",
    "    f1.append(recall_score(np.array(y_test.iloc[:,i]),y_pred[:,i],average='weighted'))\n",
    "df_result=pd.DataFrame(data=[precision,recall,f1],index=['precision','recall','f1'])\n",
    "df_result"
   ]
  },
  {
   "cell_type": "code",
   "execution_count": 14,
   "metadata": {},
   "outputs": [],
   "source": [
    "df_result['mean'] = df_result.loc[['precision','recall','f1']].mean(axis=1)"
   ]
  },
  {
   "cell_type": "code",
   "execution_count": 15,
   "metadata": {},
   "outputs": [
    {
     "data": {
      "text/html": [
       "<div>\n",
       "<style scoped>\n",
       "    .dataframe tbody tr th:only-of-type {\n",
       "        vertical-align: middle;\n",
       "    }\n",
       "\n",
       "    .dataframe tbody tr th {\n",
       "        vertical-align: top;\n",
       "    }\n",
       "\n",
       "    .dataframe thead th {\n",
       "        text-align: right;\n",
       "    }\n",
       "</style>\n",
       "<table border=\"1\" class=\"dataframe\">\n",
       "  <thead>\n",
       "    <tr style=\"text-align: right;\">\n",
       "      <th></th>\n",
       "      <th>0</th>\n",
       "      <th>1</th>\n",
       "      <th>2</th>\n",
       "      <th>3</th>\n",
       "      <th>4</th>\n",
       "      <th>5</th>\n",
       "      <th>6</th>\n",
       "      <th>7</th>\n",
       "      <th>8</th>\n",
       "      <th>9</th>\n",
       "      <th>...</th>\n",
       "      <th>27</th>\n",
       "      <th>28</th>\n",
       "      <th>29</th>\n",
       "      <th>30</th>\n",
       "      <th>31</th>\n",
       "      <th>32</th>\n",
       "      <th>33</th>\n",
       "      <th>34</th>\n",
       "      <th>35</th>\n",
       "      <th>mean</th>\n",
       "    </tr>\n",
       "  </thead>\n",
       "  <tbody>\n",
       "    <tr>\n",
       "      <th>precision</th>\n",
       "      <td>0.783809</td>\n",
       "      <td>0.886697</td>\n",
       "      <td>0.991170</td>\n",
       "      <td>0.754625</td>\n",
       "      <td>0.894824</td>\n",
       "      <td>0.950798</td>\n",
       "      <td>0.969646</td>\n",
       "      <td>0.969112</td>\n",
       "      <td>0.955412</td>\n",
       "      <td>1.0</td>\n",
       "      <td>...</td>\n",
       "      <td>0.927777</td>\n",
       "      <td>0.859418</td>\n",
       "      <td>0.946096</td>\n",
       "      <td>0.920924</td>\n",
       "      <td>0.989583</td>\n",
       "      <td>0.964531</td>\n",
       "      <td>0.974477</td>\n",
       "      <td>0.930525</td>\n",
       "      <td>0.836377</td>\n",
       "      <td>0.935526</td>\n",
       "    </tr>\n",
       "    <tr>\n",
       "      <th>recall</th>\n",
       "      <td>0.796918</td>\n",
       "      <td>0.893500</td>\n",
       "      <td>0.995575</td>\n",
       "      <td>0.756027</td>\n",
       "      <td>0.920201</td>\n",
       "      <td>0.954532</td>\n",
       "      <td>0.974062</td>\n",
       "      <td>0.984132</td>\n",
       "      <td>0.966585</td>\n",
       "      <td>1.0</td>\n",
       "      <td>...</td>\n",
       "      <td>0.957888</td>\n",
       "      <td>0.861001</td>\n",
       "      <td>0.947971</td>\n",
       "      <td>0.929661</td>\n",
       "      <td>0.989472</td>\n",
       "      <td>0.965975</td>\n",
       "      <td>0.979707</td>\n",
       "      <td>0.948581</td>\n",
       "      <td>0.850626</td>\n",
       "      <td>0.945792</td>\n",
       "    </tr>\n",
       "    <tr>\n",
       "      <th>f1</th>\n",
       "      <td>0.796918</td>\n",
       "      <td>0.893500</td>\n",
       "      <td>0.995575</td>\n",
       "      <td>0.756027</td>\n",
       "      <td>0.920201</td>\n",
       "      <td>0.954532</td>\n",
       "      <td>0.974062</td>\n",
       "      <td>0.984132</td>\n",
       "      <td>0.966585</td>\n",
       "      <td>1.0</td>\n",
       "      <td>...</td>\n",
       "      <td>0.957888</td>\n",
       "      <td>0.861001</td>\n",
       "      <td>0.947971</td>\n",
       "      <td>0.929661</td>\n",
       "      <td>0.989472</td>\n",
       "      <td>0.965975</td>\n",
       "      <td>0.979707</td>\n",
       "      <td>0.948581</td>\n",
       "      <td>0.850626</td>\n",
       "      <td>0.945792</td>\n",
       "    </tr>\n",
       "  </tbody>\n",
       "</table>\n",
       "<p>3 rows × 37 columns</p>\n",
       "</div>"
      ],
      "text/plain": [
       "                  0         1         2         3         4         5  \\\n",
       "precision  0.783809  0.886697  0.991170  0.754625  0.894824  0.950798   \n",
       "recall     0.796918  0.893500  0.995575  0.756027  0.920201  0.954532   \n",
       "f1         0.796918  0.893500  0.995575  0.756027  0.920201  0.954532   \n",
       "\n",
       "                  6         7         8    9  ...        27        28  \\\n",
       "precision  0.969646  0.969112  0.955412  1.0  ...  0.927777  0.859418   \n",
       "recall     0.974062  0.984132  0.966585  1.0  ...  0.957888  0.861001   \n",
       "f1         0.974062  0.984132  0.966585  1.0  ...  0.957888  0.861001   \n",
       "\n",
       "                 29        30        31        32        33        34  \\\n",
       "precision  0.946096  0.920924  0.989583  0.964531  0.974477  0.930525   \n",
       "recall     0.947971  0.929661  0.989472  0.965975  0.979707  0.948581   \n",
       "f1         0.947971  0.929661  0.989472  0.965975  0.979707  0.948581   \n",
       "\n",
       "                 35      mean  \n",
       "precision  0.836377  0.935526  \n",
       "recall     0.850626  0.945792  \n",
       "f1         0.850626  0.945792  \n",
       "\n",
       "[3 rows x 37 columns]"
      ]
     },
     "execution_count": 15,
     "metadata": {},
     "output_type": "execute_result"
    }
   ],
   "source": [
    "df_result.head()"
   ]
  },
  {
   "cell_type": "code",
   "execution_count": 16,
   "metadata": {},
   "outputs": [
    {
     "name": "stdout",
     "output_type": "stream",
     "text": [
      "mean accuracy: 0.9457922218831588\n"
     ]
    }
   ],
   "source": [
    "accuracy_score = (y_test==y_pred).mean()\n",
    "print(\"mean accuracy:\",accuracy_score.mean())"
   ]
  },
  {
   "cell_type": "markdown",
   "metadata": {},
   "source": [
    "### 6. Improve your model\n",
    "Use grid search to find better parameters. "
   ]
  },
  {
   "cell_type": "code",
   "execution_count": 17,
   "metadata": {},
   "outputs": [
    {
     "data": {
      "text/plain": [
       "{'memory': None,\n",
       " 'steps': [('vect',\n",
       "   CountVectorizer(analyzer='word', binary=False, decode_error='strict',\n",
       "           dtype=<class 'numpy.int64'>, encoding='utf-8', input='content',\n",
       "           lowercase=True, max_df=1.0, max_features=None, min_df=1,\n",
       "           ngram_range=(1, 1), preprocessor=None, stop_words=None,\n",
       "           strip_accents=None, token_pattern='(?u)\\\\b\\\\w\\\\w+\\\\b',\n",
       "           tokenizer=<function tokenize at 0x7f0f77f41400>, vocabulary=None)),\n",
       "  ('tdidf',\n",
       "   TfidfTransformer(norm='l2', smooth_idf=True, sublinear_tf=False, use_idf=True)),\n",
       "  ('multi',\n",
       "   MultiOutputClassifier(estimator=RandomForestClassifier(bootstrap=True, class_weight=None, criterion='gini',\n",
       "               max_depth=None, max_features='auto', max_leaf_nodes=None,\n",
       "               min_impurity_decrease=0.0, min_impurity_split=None,\n",
       "               min_samples_leaf=1, min_samples_split=2,\n",
       "               min_weight_fraction_leaf=0.0, n_estimators=10, n_jobs=None,\n",
       "               oob_score=False, random_state=None, verbose=0,\n",
       "               warm_start=False),\n",
       "              n_jobs=None))],\n",
       " 'vect': CountVectorizer(analyzer='word', binary=False, decode_error='strict',\n",
       "         dtype=<class 'numpy.int64'>, encoding='utf-8', input='content',\n",
       "         lowercase=True, max_df=1.0, max_features=None, min_df=1,\n",
       "         ngram_range=(1, 1), preprocessor=None, stop_words=None,\n",
       "         strip_accents=None, token_pattern='(?u)\\\\b\\\\w\\\\w+\\\\b',\n",
       "         tokenizer=<function tokenize at 0x7f0f77f41400>, vocabulary=None),\n",
       " 'tdidf': TfidfTransformer(norm='l2', smooth_idf=True, sublinear_tf=False, use_idf=True),\n",
       " 'multi': MultiOutputClassifier(estimator=RandomForestClassifier(bootstrap=True, class_weight=None, criterion='gini',\n",
       "             max_depth=None, max_features='auto', max_leaf_nodes=None,\n",
       "             min_impurity_decrease=0.0, min_impurity_split=None,\n",
       "             min_samples_leaf=1, min_samples_split=2,\n",
       "             min_weight_fraction_leaf=0.0, n_estimators=10, n_jobs=None,\n",
       "             oob_score=False, random_state=None, verbose=0,\n",
       "             warm_start=False),\n",
       "            n_jobs=None),\n",
       " 'vect__analyzer': 'word',\n",
       " 'vect__binary': False,\n",
       " 'vect__decode_error': 'strict',\n",
       " 'vect__dtype': numpy.int64,\n",
       " 'vect__encoding': 'utf-8',\n",
       " 'vect__input': 'content',\n",
       " 'vect__lowercase': True,\n",
       " 'vect__max_df': 1.0,\n",
       " 'vect__max_features': None,\n",
       " 'vect__min_df': 1,\n",
       " 'vect__ngram_range': (1, 1),\n",
       " 'vect__preprocessor': None,\n",
       " 'vect__stop_words': None,\n",
       " 'vect__strip_accents': None,\n",
       " 'vect__token_pattern': '(?u)\\\\b\\\\w\\\\w+\\\\b',\n",
       " 'vect__tokenizer': <function __main__.tokenize(text)>,\n",
       " 'vect__vocabulary': None,\n",
       " 'tdidf__norm': 'l2',\n",
       " 'tdidf__smooth_idf': True,\n",
       " 'tdidf__sublinear_tf': False,\n",
       " 'tdidf__use_idf': True,\n",
       " 'multi__estimator__bootstrap': True,\n",
       " 'multi__estimator__class_weight': None,\n",
       " 'multi__estimator__criterion': 'gini',\n",
       " 'multi__estimator__max_depth': None,\n",
       " 'multi__estimator__max_features': 'auto',\n",
       " 'multi__estimator__max_leaf_nodes': None,\n",
       " 'multi__estimator__min_impurity_decrease': 0.0,\n",
       " 'multi__estimator__min_impurity_split': None,\n",
       " 'multi__estimator__min_samples_leaf': 1,\n",
       " 'multi__estimator__min_samples_split': 2,\n",
       " 'multi__estimator__min_weight_fraction_leaf': 0.0,\n",
       " 'multi__estimator__n_estimators': 10,\n",
       " 'multi__estimator__n_jobs': None,\n",
       " 'multi__estimator__oob_score': False,\n",
       " 'multi__estimator__random_state': None,\n",
       " 'multi__estimator__verbose': 0,\n",
       " 'multi__estimator__warm_start': False,\n",
       " 'multi__estimator': RandomForestClassifier(bootstrap=True, class_weight=None, criterion='gini',\n",
       "             max_depth=None, max_features='auto', max_leaf_nodes=None,\n",
       "             min_impurity_decrease=0.0, min_impurity_split=None,\n",
       "             min_samples_leaf=1, min_samples_split=2,\n",
       "             min_weight_fraction_leaf=0.0, n_estimators=10, n_jobs=None,\n",
       "             oob_score=False, random_state=None, verbose=0,\n",
       "             warm_start=False),\n",
       " 'multi__n_jobs': None}"
      ]
     },
     "execution_count": 17,
     "metadata": {},
     "output_type": "execute_result"
    }
   ],
   "source": [
    "pipeline.get_params()"
   ]
  },
  {
   "cell_type": "code",
   "execution_count": 38,
   "metadata": {},
   "outputs": [],
   "source": [
    "parameters = {'multi__estimator__n_estimators': [10,20,50]}\n",
    "\n",
    "cv = GridSearchCV(pipeline,parameters)"
   ]
  },
  {
   "cell_type": "markdown",
   "metadata": {},
   "source": [
    "### 7. Test your model\n",
    "Show the accuracy, precision, and recall of the tuned model.  \n",
    "\n",
    "Since this project focuses on code quality, process, and  pipelines, there is no minimum performance metric needed to pass. However, make sure to fine tune your models for accuracy, precision and recall to make your project stand out - especially for your portfolio!"
   ]
  },
  {
   "cell_type": "code",
   "execution_count": 39,
   "metadata": {},
   "outputs": [
    {
     "name": "stderr",
     "output_type": "stream",
     "text": [
      "/home/matthias/anaconda3/lib/python3.7/site-packages/sklearn/model_selection/_split.py:2053: FutureWarning: You should specify a value for 'cv' instead of relying on the default value. The default value will change from 3 to 5 in version 0.22.\n",
      "  warnings.warn(CV_WARNING, FutureWarning)\n"
     ]
    },
    {
     "data": {
      "text/plain": [
       "GridSearchCV(cv='warn', error_score='raise-deprecating',\n",
       "       estimator=Pipeline(memory=None,\n",
       "     steps=[('vect', CountVectorizer(analyzer='word', binary=False, decode_error='strict',\n",
       "        dtype=<class 'numpy.int64'>, encoding='utf-8', input='content',\n",
       "        lowercase=True, max_df=1.0, max_features=None, min_df=1,\n",
       "        ngram_range=(1, 1), preprocessor=None, stop_words=None,\n",
       "        strip..._score=False, random_state=None, verbose=0,\n",
       "            warm_start=False),\n",
       "           n_jobs=None))]),\n",
       "       fit_params=None, iid='warn', n_jobs=None,\n",
       "       param_grid={'multi__estimator__n_estimators': [10, 20, 50]},\n",
       "       pre_dispatch='2*n_jobs', refit=True, return_train_score='warn',\n",
       "       scoring=None, verbose=0)"
      ]
     },
     "execution_count": 39,
     "metadata": {},
     "output_type": "execute_result"
    }
   ],
   "source": [
    "cv.fit(X_train,y_train)"
   ]
  },
  {
   "cell_type": "code",
   "execution_count": 40,
   "metadata": {},
   "outputs": [
    {
     "data": {
      "text/plain": [
       "{'multi__estimator__n_estimators': 50}"
      ]
     },
     "execution_count": 40,
     "metadata": {},
     "output_type": "execute_result"
    }
   ],
   "source": [
    "cv.best_params_"
   ]
  },
  {
   "cell_type": "markdown",
   "metadata": {},
   "source": [
    "### 8. Try improving your model further. Here are a few ideas:\n",
    "* try other machine learning algorithms\n",
    "* add other features besides the TF-IDF"
   ]
  },
  {
   "cell_type": "code",
   "execution_count": 21,
   "metadata": {},
   "outputs": [],
   "source": [
    "class DenseTransformer(TransformerMixin):\n",
    "    def transform(self, X, y=None, **fit_params):\n",
    "        return X.todense()\n",
    "\n",
    "    def fit_transform(self, X, y=None, **fit_params):\n",
    "        self.fit(X, y, **fit_params)\n",
    "        return self.transform(X)\n",
    "\n",
    "    def fit(self, X, y=None, **fit_params):\n",
    "        return self"
   ]
  },
  {
   "cell_type": "code",
   "execution_count": 25,
   "metadata": {},
   "outputs": [],
   "source": [
    "pipeline_ver2 = Pipeline([('vect', CountVectorizer(tokenizer=tokenize)),\n",
    "             ('tdidf', TfidfTransformer()),\n",
    "             ('to_dense', DenseTransformer()),\n",
    "             ('nb', MultiOutputClassifier(estimator=GaussianNB()))\n",
    "            ])"
   ]
  },
  {
   "cell_type": "code",
   "execution_count": 23,
   "metadata": {},
   "outputs": [],
   "source": [
    "pipeline_ver2 = Pipeline([('vect', CountVectorizer(tokenizer=tokenize)),\n",
    "             ('tdidf', TfidfTransformer()),\n",
    "             ('multi', MultiOutputClassifier(estimator=svm.SVC()))\n",
    "            ])"
   ]
  },
  {
   "cell_type": "code",
   "execution_count": 26,
   "metadata": {
    "scrolled": false
   },
   "outputs": [
    {
     "data": {
      "text/plain": [
       "Pipeline(memory=None,\n",
       "     steps=[('vect', CountVectorizer(analyzer='word', binary=False, decode_error='strict',\n",
       "        dtype=<class 'numpy.int64'>, encoding='utf-8', input='content',\n",
       "        lowercase=True, max_df=1.0, max_features=None, min_df=1,\n",
       "        ngram_range=(1, 1), preprocessor=None, stop_words=None,\n",
       "        strip...tiOutputClassifier(estimator=GaussianNB(priors=None, var_smoothing=1e-09),\n",
       "           n_jobs=None))])"
      ]
     },
     "execution_count": 26,
     "metadata": {},
     "output_type": "execute_result"
    }
   ],
   "source": [
    "pipeline_ver2.fit(X_train, y_train)"
   ]
  },
  {
   "cell_type": "code",
   "execution_count": 32,
   "metadata": {},
   "outputs": [],
   "source": [
    "y_pred_v2 = pipeline_ver2.predict(X_test)"
   ]
  },
  {
   "cell_type": "code",
   "execution_count": 33,
   "metadata": {},
   "outputs": [
    {
     "data": {
      "text/html": [
       "<div>\n",
       "<style scoped>\n",
       "    .dataframe tbody tr th:only-of-type {\n",
       "        vertical-align: middle;\n",
       "    }\n",
       "\n",
       "    .dataframe tbody tr th {\n",
       "        vertical-align: top;\n",
       "    }\n",
       "\n",
       "    .dataframe thead th {\n",
       "        text-align: right;\n",
       "    }\n",
       "</style>\n",
       "<table border=\"1\" class=\"dataframe\">\n",
       "  <thead>\n",
       "    <tr style=\"text-align: right;\">\n",
       "      <th></th>\n",
       "      <th>0</th>\n",
       "      <th>1</th>\n",
       "      <th>2</th>\n",
       "      <th>3</th>\n",
       "      <th>4</th>\n",
       "      <th>5</th>\n",
       "      <th>6</th>\n",
       "      <th>7</th>\n",
       "      <th>8</th>\n",
       "      <th>9</th>\n",
       "      <th>...</th>\n",
       "      <th>26</th>\n",
       "      <th>27</th>\n",
       "      <th>28</th>\n",
       "      <th>29</th>\n",
       "      <th>30</th>\n",
       "      <th>31</th>\n",
       "      <th>32</th>\n",
       "      <th>33</th>\n",
       "      <th>34</th>\n",
       "      <th>35</th>\n",
       "    </tr>\n",
       "  </thead>\n",
       "  <tbody>\n",
       "    <tr>\n",
       "      <th>precision</th>\n",
       "      <td>0.705693</td>\n",
       "      <td>0.822998</td>\n",
       "      <td>0.991712</td>\n",
       "      <td>0.585648</td>\n",
       "      <td>0.862447</td>\n",
       "      <td>0.913093</td>\n",
       "      <td>0.949528</td>\n",
       "      <td>0.967236</td>\n",
       "      <td>0.937298</td>\n",
       "      <td>1.0</td>\n",
       "      <td>...</td>\n",
       "      <td>0.978123</td>\n",
       "      <td>0.924178</td>\n",
       "      <td>0.663424</td>\n",
       "      <td>0.861850</td>\n",
       "      <td>0.857612</td>\n",
       "      <td>0.979561</td>\n",
       "      <td>0.867764</td>\n",
       "      <td>0.963264</td>\n",
       "      <td>0.907098</td>\n",
       "      <td>0.77678</td>\n",
       "    </tr>\n",
       "    <tr>\n",
       "      <th>recall</th>\n",
       "      <td>0.583308</td>\n",
       "      <td>0.683247</td>\n",
       "      <td>0.982301</td>\n",
       "      <td>0.502136</td>\n",
       "      <td>0.610772</td>\n",
       "      <td>0.680958</td>\n",
       "      <td>0.780439</td>\n",
       "      <td>0.829265</td>\n",
       "      <td>0.820720</td>\n",
       "      <td>1.0</td>\n",
       "      <td>...</td>\n",
       "      <td>0.859017</td>\n",
       "      <td>0.726427</td>\n",
       "      <td>0.501678</td>\n",
       "      <td>0.622978</td>\n",
       "      <td>0.643576</td>\n",
       "      <td>0.903418</td>\n",
       "      <td>0.671193</td>\n",
       "      <td>0.857797</td>\n",
       "      <td>0.706591</td>\n",
       "      <td>0.62603</td>\n",
       "    </tr>\n",
       "    <tr>\n",
       "      <th>f1</th>\n",
       "      <td>0.583308</td>\n",
       "      <td>0.683247</td>\n",
       "      <td>0.982301</td>\n",
       "      <td>0.502136</td>\n",
       "      <td>0.610772</td>\n",
       "      <td>0.680958</td>\n",
       "      <td>0.780439</td>\n",
       "      <td>0.829265</td>\n",
       "      <td>0.820720</td>\n",
       "      <td>1.0</td>\n",
       "      <td>...</td>\n",
       "      <td>0.859017</td>\n",
       "      <td>0.726427</td>\n",
       "      <td>0.501678</td>\n",
       "      <td>0.622978</td>\n",
       "      <td>0.643576</td>\n",
       "      <td>0.903418</td>\n",
       "      <td>0.671193</td>\n",
       "      <td>0.857797</td>\n",
       "      <td>0.706591</td>\n",
       "      <td>0.62603</td>\n",
       "    </tr>\n",
       "  </tbody>\n",
       "</table>\n",
       "<p>3 rows × 36 columns</p>\n",
       "</div>"
      ],
      "text/plain": [
       "                 0         1         2         3         4         5   \\\n",
       "precision  0.705693  0.822998  0.991712  0.585648  0.862447  0.913093   \n",
       "recall     0.583308  0.683247  0.982301  0.502136  0.610772  0.680958   \n",
       "f1         0.583308  0.683247  0.982301  0.502136  0.610772  0.680958   \n",
       "\n",
       "                 6         7         8    9   ...        26        27  \\\n",
       "precision  0.949528  0.967236  0.937298  1.0  ...  0.978123  0.924178   \n",
       "recall     0.780439  0.829265  0.820720  1.0  ...  0.859017  0.726427   \n",
       "f1         0.780439  0.829265  0.820720  1.0  ...  0.859017  0.726427   \n",
       "\n",
       "                 28        29        30        31        32        33  \\\n",
       "precision  0.663424  0.861850  0.857612  0.979561  0.867764  0.963264   \n",
       "recall     0.501678  0.622978  0.643576  0.903418  0.671193  0.857797   \n",
       "f1         0.501678  0.622978  0.643576  0.903418  0.671193  0.857797   \n",
       "\n",
       "                 34       35  \n",
       "precision  0.907098  0.77678  \n",
       "recall     0.706591  0.62603  \n",
       "f1         0.706591  0.62603  \n",
       "\n",
       "[3 rows x 36 columns]"
      ]
     },
     "execution_count": 33,
     "metadata": {},
     "output_type": "execute_result"
    }
   ],
   "source": [
    "result_v2=[]\n",
    "precision_v2 = []\n",
    "recall_v2=[]\n",
    "f1_v2=[]\n",
    "for i in range(y_pred.shape[1]):\n",
    "    result_v2.append(classification_report(np.array(y_test.iloc[:,i]),y_pred_v2[:,i]))\n",
    "    precision_v2.append(precision_score(np.array(y_test.iloc[:,i]),y_pred_v2[:,i],average='weighted'))\n",
    "    recall_v2.append(recall_score(np.array(y_test.iloc[:,i]),y_pred_v2[:,i],average='weighted'))\n",
    "    f1_v2.append(recall_score(np.array(y_test.iloc[:,i]),y_pred_v2[:,i],average='weighted'))\n",
    "df_result_v2=pd.DataFrame(data=[precision_v2,recall_v2,f1_v2],index=['precision','recall','f1'])\n",
    "df_result_v2"
   ]
  },
  {
   "cell_type": "code",
   "execution_count": 35,
   "metadata": {},
   "outputs": [
    {
     "name": "stdout",
     "output_type": "stream",
     "text": [
      "mean accuracy: 0.7404129793510325\n"
     ]
    }
   ],
   "source": [
    "accuracy_score = (y_test==y_pred_v2).mean()\n",
    "print(\"mean accuracy:\",accuracy_score.mean())"
   ]
  },
  {
   "cell_type": "markdown",
   "metadata": {},
   "source": [
    "### 9. Export your model as a pickle file"
   ]
  },
  {
   "cell_type": "code",
   "execution_count": null,
   "metadata": {},
   "outputs": [],
   "source": []
  },
  {
   "cell_type": "markdown",
   "metadata": {},
   "source": [
    "### 10. Use this notebook to complete `train.py`\n",
    "Use the template file attached in the Resources folder to write a script that runs the steps above to create a database and export a model based on a new dataset specified by the user."
   ]
  },
  {
   "cell_type": "code",
   "execution_count": null,
   "metadata": {},
   "outputs": [],
   "source": []
  }
 ],
 "metadata": {
  "kernelspec": {
   "display_name": "Python 3",
   "language": "python",
   "name": "python3"
  },
  "language_info": {
   "codemirror_mode": {
    "name": "ipython",
    "version": 3
   },
   "file_extension": ".py",
   "mimetype": "text/x-python",
   "name": "python",
   "nbconvert_exporter": "python",
   "pygments_lexer": "ipython3",
   "version": "3.7.3"
  }
 },
 "nbformat": 4,
 "nbformat_minor": 2
}
